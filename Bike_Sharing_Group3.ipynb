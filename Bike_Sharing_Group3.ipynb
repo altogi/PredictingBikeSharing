{
 "cells": [
  {
   "cell_type": "markdown",
   "metadata": {
    "id": "xOqIHJwNLDzN"
   },
   "source": [
    "# Bike Sharing Prediction - Group 3\n",
    "\n",
    "**Description of Dataset**:\n",
    "- instant: record index\n",
    "- dteday : date\n",
    "- hr : hour (0 to 23)\n",
    "- weathersit : Weather situation\n",
    "- temp : Normalized temperature in Celsius. The values are divided to 41 (max)\n",
    "- atemp: Normalized feeling temperature in Celsius. The values are divided to 50 (max)\n",
    "- hum: Normalized humidity. The values are divided to 100 (max)\n",
    "- windspeed: Normalized wind speed. The values are divided to 67 (max)\n",
    "- casual: count of casual users\n",
    "- registered: count of registered users\n",
    "- cnt: count of total rental bikes including both casual and registered. This is the target to predict.\n"
   ]
  },
  {
   "cell_type": "markdown",
   "metadata": {
    "id": "intDbvwKLKB9"
   },
   "source": [
    "## 1. Environment Setup and Dataset Import"
   ]
  },
  {
   "cell_type": "code",
   "execution_count": 1,
   "metadata": {
    "id": "a1qecbUfKJOc"
   },
   "outputs": [],
   "source": [
    "import pandas as pd\n",
    "import numpy as np\n",
    "import seaborn as sns\n",
    "import matplotlib.pyplot as plt\n",
    "from sklearn.decomposition import PCA\n",
    "from sklearn.preprocessing import OneHotEncoder, FunctionTransformer, MinMaxScaler\n",
    "from sklearn.pipeline import Pipeline\n",
    "from sklearn.impute import SimpleImputer"
   ]
  },
  {
   "cell_type": "code",
   "execution_count": 2,
   "metadata": {
    "colab": {
     "base_uri": "https://localhost:8080/",
     "height": 320
    },
    "id": "w-x1ZLeFLtif",
    "outputId": "a072e1b7-84d3-42b9-f491-b1a05ff48f70"
   },
   "outputs": [
    {
     "data": {
      "text/html": [
       "<div>\n",
       "<style scoped>\n",
       "    .dataframe tbody tr th:only-of-type {\n",
       "        vertical-align: middle;\n",
       "    }\n",
       "\n",
       "    .dataframe tbody tr th {\n",
       "        vertical-align: top;\n",
       "    }\n",
       "\n",
       "    .dataframe thead th {\n",
       "        text-align: right;\n",
       "    }\n",
       "</style>\n",
       "<table border=\"1\" class=\"dataframe\">\n",
       "  <thead>\n",
       "    <tr style=\"text-align: right;\">\n",
       "      <th></th>\n",
       "      <th>dteday</th>\n",
       "      <th>hr</th>\n",
       "      <th>weathersit</th>\n",
       "      <th>temp</th>\n",
       "      <th>atemp</th>\n",
       "      <th>hum</th>\n",
       "      <th>windspeed</th>\n",
       "      <th>casual</th>\n",
       "      <th>registered</th>\n",
       "      <th>cnt</th>\n",
       "    </tr>\n",
       "    <tr>\n",
       "      <th>instant</th>\n",
       "      <th></th>\n",
       "      <th></th>\n",
       "      <th></th>\n",
       "      <th></th>\n",
       "      <th></th>\n",
       "      <th></th>\n",
       "      <th></th>\n",
       "      <th></th>\n",
       "      <th></th>\n",
       "      <th></th>\n",
       "    </tr>\n",
       "  </thead>\n",
       "  <tbody>\n",
       "    <tr>\n",
       "      <th>1</th>\n",
       "      <td>2011-01-01</td>\n",
       "      <td>0</td>\n",
       "      <td>Clear, Few clouds, Partly cloudy, Partly cloudy</td>\n",
       "      <td>0.24</td>\n",
       "      <td>0.2879</td>\n",
       "      <td>0.81</td>\n",
       "      <td>0.0</td>\n",
       "      <td>3</td>\n",
       "      <td>13</td>\n",
       "      <td>16</td>\n",
       "    </tr>\n",
       "    <tr>\n",
       "      <th>2</th>\n",
       "      <td>2011-01-01</td>\n",
       "      <td>1</td>\n",
       "      <td>Clear, Few clouds, Partly cloudy, Partly cloudy</td>\n",
       "      <td>0.22</td>\n",
       "      <td>0.2727</td>\n",
       "      <td>0.80</td>\n",
       "      <td>0.0</td>\n",
       "      <td>8</td>\n",
       "      <td>32</td>\n",
       "      <td>40</td>\n",
       "    </tr>\n",
       "    <tr>\n",
       "      <th>3</th>\n",
       "      <td>2011-01-01</td>\n",
       "      <td>2</td>\n",
       "      <td>Clear, Few clouds, Partly cloudy, Partly cloudy</td>\n",
       "      <td>0.22</td>\n",
       "      <td>0.2727</td>\n",
       "      <td>0.80</td>\n",
       "      <td>0.0</td>\n",
       "      <td>5</td>\n",
       "      <td>27</td>\n",
       "      <td>32</td>\n",
       "    </tr>\n",
       "    <tr>\n",
       "      <th>4</th>\n",
       "      <td>2011-01-01</td>\n",
       "      <td>3</td>\n",
       "      <td>Clear, Few clouds, Partly cloudy, Partly cloudy</td>\n",
       "      <td>0.24</td>\n",
       "      <td>0.2879</td>\n",
       "      <td>0.75</td>\n",
       "      <td>0.0</td>\n",
       "      <td>3</td>\n",
       "      <td>10</td>\n",
       "      <td>13</td>\n",
       "    </tr>\n",
       "    <tr>\n",
       "      <th>5</th>\n",
       "      <td>2011-01-01</td>\n",
       "      <td>4</td>\n",
       "      <td>Clear, Few clouds, Partly cloudy, Partly cloudy</td>\n",
       "      <td>0.24</td>\n",
       "      <td>0.2879</td>\n",
       "      <td>0.75</td>\n",
       "      <td>0.0</td>\n",
       "      <td>0</td>\n",
       "      <td>1</td>\n",
       "      <td>1</td>\n",
       "    </tr>\n",
       "  </tbody>\n",
       "</table>\n",
       "</div>"
      ],
      "text/plain": [
       "            dteday  hr                                       weathersit  temp  \\\n",
       "instant                                                                         \n",
       "1       2011-01-01   0  Clear, Few clouds, Partly cloudy, Partly cloudy  0.24   \n",
       "2       2011-01-01   1  Clear, Few clouds, Partly cloudy, Partly cloudy  0.22   \n",
       "3       2011-01-01   2  Clear, Few clouds, Partly cloudy, Partly cloudy  0.22   \n",
       "4       2011-01-01   3  Clear, Few clouds, Partly cloudy, Partly cloudy  0.24   \n",
       "5       2011-01-01   4  Clear, Few clouds, Partly cloudy, Partly cloudy  0.24   \n",
       "\n",
       "          atemp   hum  windspeed  casual  registered  cnt  \n",
       "instant                                                    \n",
       "1        0.2879  0.81        0.0       3          13   16  \n",
       "2        0.2727  0.80        0.0       8          32   40  \n",
       "3        0.2727  0.80        0.0       5          27   32  \n",
       "4        0.2879  0.75        0.0       3          10   13  \n",
       "5        0.2879  0.75        0.0       0           1    1  "
      ]
     },
     "execution_count": 2,
     "metadata": {},
     "output_type": "execute_result"
    }
   ],
   "source": [
    "df = pd.read_csv('hour.csv', parse_dates=['dteday'], index_col=['instant'])\n",
    "df.head()"
   ]
  },
  {
   "cell_type": "markdown",
   "metadata": {
    "id": "XqKMo-JJMgxa"
   },
   "source": [
    "## 2. Exploratory Data Analysis\n",
    "### 2.1 Data types of dataset\n",
    "A first view at the data types of each column proves useful in later analyses."
   ]
  },
  {
   "cell_type": "code",
   "execution_count": 3,
   "metadata": {
    "colab": {
     "base_uri": "https://localhost:8080/"
    },
    "id": "XMsmqb9YLxII",
    "outputId": "5212a591-a7db-4fcc-c73f-70e23a0b0e33"
   },
   "outputs": [
    {
     "data": {
      "text/plain": [
       "dteday        datetime64[ns]\n",
       "hr                     int64\n",
       "weathersit            object\n",
       "temp                 float64\n",
       "atemp                float64\n",
       "hum                  float64\n",
       "windspeed            float64\n",
       "casual                 int64\n",
       "registered             int64\n",
       "cnt                    int64\n",
       "dtype: object"
      ]
     },
     "execution_count": 3,
     "metadata": {},
     "output_type": "execute_result"
    }
   ],
   "source": [
    "df.dtypes"
   ]
  },
  {
   "cell_type": "markdown",
   "metadata": {
    "id": "WjAEFmXsNU92"
   },
   "source": [
    "### 2.2 Missing values in each column\n",
    "Now, to examine the amount of missing values in each column."
   ]
  },
  {
   "cell_type": "code",
   "execution_count": 4,
   "metadata": {
    "colab": {
     "base_uri": "https://localhost:8080/"
    },
    "id": "Ocl4uAZ1NEAn",
    "outputId": "4c4d5852-a5c2-4fff-e2ef-1b55e62275f4"
   },
   "outputs": [
    {
     "data": {
      "text/plain": [
       "17379"
      ]
     },
     "execution_count": 4,
     "metadata": {},
     "output_type": "execute_result"
    }
   ],
   "source": [
    "len(df)"
   ]
  },
  {
   "cell_type": "code",
   "execution_count": 5,
   "metadata": {
    "colab": {
     "base_uri": "https://localhost:8080/"
    },
    "id": "V7rhqBLWNdWD",
    "outputId": "f20ec05a-cee2-4f75-88f5-5359bf1ff567"
   },
   "outputs": [
    {
     "data": {
      "text/plain": [
       "dteday          0\n",
       "hr              0\n",
       "weathersit    100\n",
       "temp           99\n",
       "atemp         100\n",
       "hum           100\n",
       "windspeed     100\n",
       "casual          0\n",
       "registered      0\n",
       "cnt             0\n",
       "dtype: int64"
      ]
     },
     "execution_count": 5,
     "metadata": {},
     "output_type": "execute_result"
    }
   ],
   "source": [
    "df.isnull().sum()"
   ]
  },
  {
   "cell_type": "markdown",
   "metadata": {
    "id": "FAOCVCY6PvxL"
   },
   "source": [
    "The 5 columns representing weather data show around 100 missing values, probably due to sensor failures. One of these variables, \"weathersit\" is nonetheless a string, and its null values may have different causes."
   ]
  },
  {
   "cell_type": "markdown",
   "metadata": {
    "id": "GxcNYwKTQEkg"
   },
   "source": [
    "### 2.3 Distribution of each column\n",
    "#### 2.3.1 Categorical columns\n",
    "Let's start by checking the number of unique values for the categorical variables in the dataframe."
   ]
  },
  {
   "cell_type": "code",
   "execution_count": 6,
   "metadata": {
    "colab": {
     "base_uri": "https://localhost:8080/"
    },
    "id": "fiozIL_yNei7",
    "outputId": "462b3d51-91d4-49cc-b0db-71ea8b6b2a83"
   },
   "outputs": [
    {
     "data": {
      "text/plain": [
       "Clear, Few clouds, Partly cloudy, Partly cloudy                                            11345\n",
       "Mist + Cloudy, Mist + Broken clouds, Mist + Few clouds, Mist                                4517\n",
       "Light Snow, Light Rain + Thunderstorm + Scattered clouds, Light Rain + Scattered clouds     1414\n",
       "NaN                                                                                          100\n",
       "Heavy Rain + Ice Pallets + Thunderstorm + Mist, Snow + Fog                                     3\n",
       "Name: weathersit, dtype: int64"
      ]
     },
     "execution_count": 6,
     "metadata": {},
     "output_type": "execute_result"
    }
   ],
   "source": [
    "df['weathersit'].value_counts(dropna=False)"
   ]
  },
  {
   "cell_type": "markdown",
   "metadata": {
    "id": "b7x-dPdnQdyi"
   },
   "source": [
    "The entries on this column are fairly strange, since:\n",
    "* Weather conditions are repeated in the same entry (for example, 'Partly cloudy' appears twice in the first entry type)\n",
    "* Weather conditions can be separated by ',' but also by '+'.\n",
    "\n",
    "It may be necessary later on to separate individual conditions and one-hot encode them. The degree of separation (whether to create a dummy variable for 'Mist + Cloudy' and another for 'Mist + Broken clouds' instead of a dummy variable for 'Mist', another one for 'Cloudy', and another one for 'Broken clouds' will be evaluated later on."
   ]
  },
  {
   "cell_type": "markdown",
   "metadata": {
    "id": "uE-_fAVoWmJq"
   },
   "source": [
    "#### 2.3.2 Numerical columns\n",
    "Starting with the date column:"
   ]
  },
  {
   "cell_type": "code",
   "execution_count": 7,
   "metadata": {},
   "outputs": [
    {
     "name": "stdout",
     "output_type": "stream",
     "text": [
      "2011-01-01 00:00:00 2012-12-31 00:00:00\n"
     ]
    }
   ],
   "source": [
    "print(df['dteday'].min(), df['dteday'].max())"
   ]
  },
  {
   "cell_type": "markdown",
   "metadata": {},
   "source": [
    "Now, to observe the distribution of numerical columns in the dataset, one can begin analyzing the max, min, mean, and quartile values of each of these columns."
   ]
  },
  {
   "cell_type": "code",
   "execution_count": 8,
   "metadata": {},
   "outputs": [
    {
     "data": {
      "text/html": [
       "<div>\n",
       "<style scoped>\n",
       "    .dataframe tbody tr th:only-of-type {\n",
       "        vertical-align: middle;\n",
       "    }\n",
       "\n",
       "    .dataframe tbody tr th {\n",
       "        vertical-align: top;\n",
       "    }\n",
       "\n",
       "    .dataframe thead th {\n",
       "        text-align: right;\n",
       "    }\n",
       "</style>\n",
       "<table border=\"1\" class=\"dataframe\">\n",
       "  <thead>\n",
       "    <tr style=\"text-align: right;\">\n",
       "      <th></th>\n",
       "      <th>hr</th>\n",
       "      <th>temp</th>\n",
       "      <th>atemp</th>\n",
       "      <th>hum</th>\n",
       "      <th>windspeed</th>\n",
       "      <th>cnt</th>\n",
       "    </tr>\n",
       "  </thead>\n",
       "  <tbody>\n",
       "    <tr>\n",
       "      <th>count</th>\n",
       "      <td>17379.000000</td>\n",
       "      <td>17280.000000</td>\n",
       "      <td>17279.000000</td>\n",
       "      <td>17279.000000</td>\n",
       "      <td>17279.000000</td>\n",
       "      <td>17379.000000</td>\n",
       "    </tr>\n",
       "    <tr>\n",
       "      <th>mean</th>\n",
       "      <td>11.546752</td>\n",
       "      <td>0.497071</td>\n",
       "      <td>0.475530</td>\n",
       "      <td>0.627235</td>\n",
       "      <td>0.190114</td>\n",
       "      <td>189.463088</td>\n",
       "    </tr>\n",
       "    <tr>\n",
       "      <th>std</th>\n",
       "      <td>6.914405</td>\n",
       "      <td>0.192474</td>\n",
       "      <td>0.171782</td>\n",
       "      <td>0.193047</td>\n",
       "      <td>0.122378</td>\n",
       "      <td>181.387599</td>\n",
       "    </tr>\n",
       "    <tr>\n",
       "      <th>min</th>\n",
       "      <td>0.000000</td>\n",
       "      <td>0.020000</td>\n",
       "      <td>0.000000</td>\n",
       "      <td>0.000000</td>\n",
       "      <td>0.000000</td>\n",
       "      <td>1.000000</td>\n",
       "    </tr>\n",
       "    <tr>\n",
       "      <th>25%</th>\n",
       "      <td>6.000000</td>\n",
       "      <td>0.340000</td>\n",
       "      <td>0.333300</td>\n",
       "      <td>0.480000</td>\n",
       "      <td>0.104500</td>\n",
       "      <td>40.000000</td>\n",
       "    </tr>\n",
       "    <tr>\n",
       "      <th>50%</th>\n",
       "      <td>12.000000</td>\n",
       "      <td>0.500000</td>\n",
       "      <td>0.484800</td>\n",
       "      <td>0.630000</td>\n",
       "      <td>0.194000</td>\n",
       "      <td>142.000000</td>\n",
       "    </tr>\n",
       "    <tr>\n",
       "      <th>75%</th>\n",
       "      <td>18.000000</td>\n",
       "      <td>0.660000</td>\n",
       "      <td>0.621200</td>\n",
       "      <td>0.780000</td>\n",
       "      <td>0.253700</td>\n",
       "      <td>281.000000</td>\n",
       "    </tr>\n",
       "    <tr>\n",
       "      <th>max</th>\n",
       "      <td>23.000000</td>\n",
       "      <td>1.000000</td>\n",
       "      <td>1.000000</td>\n",
       "      <td>1.000000</td>\n",
       "      <td>0.850700</td>\n",
       "      <td>977.000000</td>\n",
       "    </tr>\n",
       "  </tbody>\n",
       "</table>\n",
       "</div>"
      ],
      "text/plain": [
       "                 hr          temp         atemp           hum     windspeed  \\\n",
       "count  17379.000000  17280.000000  17279.000000  17279.000000  17279.000000   \n",
       "mean      11.546752      0.497071      0.475530      0.627235      0.190114   \n",
       "std        6.914405      0.192474      0.171782      0.193047      0.122378   \n",
       "min        0.000000      0.020000      0.000000      0.000000      0.000000   \n",
       "25%        6.000000      0.340000      0.333300      0.480000      0.104500   \n",
       "50%       12.000000      0.500000      0.484800      0.630000      0.194000   \n",
       "75%       18.000000      0.660000      0.621200      0.780000      0.253700   \n",
       "max       23.000000      1.000000      1.000000      1.000000      0.850700   \n",
       "\n",
       "                cnt  \n",
       "count  17379.000000  \n",
       "mean     189.463088  \n",
       "std      181.387599  \n",
       "min        1.000000  \n",
       "25%       40.000000  \n",
       "50%      142.000000  \n",
       "75%      281.000000  \n",
       "max      977.000000  "
      ]
     },
     "execution_count": 8,
     "metadata": {},
     "output_type": "execute_result"
    }
   ],
   "source": [
    "df[['hr', 'temp', 'atemp', 'hum', 'windspeed', 'cnt']].describe()"
   ]
  },
  {
   "cell_type": "markdown",
   "metadata": {},
   "source": [
    "Further, one can also observe the distribution of each of these variables."
   ]
  },
  {
   "cell_type": "code",
   "execution_count": 9,
   "metadata": {
    "id": "luSgETy_W0v4"
   },
   "outputs": [
    {
     "data": {
      "image/png": "[encoded data removed]",
      "text/plain": [
       "<Figure size 1008x1080 with 6 Axes>"
      ]
     },
     "metadata": {
      "needs_background": "light"
     },
     "output_type": "display_data"
    }
   ],
   "source": [
    "fields = ['hr', 'temp', 'atemp', 'hum', 'windspeed', 'cnt']\n",
    "fig, axs = plt.subplots(figsize=(14, 15), ncols=1, nrows=len(fields), sharey=False)\n",
    "for field, ax in zip(fields, axs):\n",
    "    ax.set_title('Distribution of ' + field, fontsize=15)\n",
    "    sns.histplot(df[field], ax=ax, kde=True, stat='density')\n",
    "fig.tight_layout()"
   ]
  },
  {
   "cell_type": "markdown",
   "metadata": {},
   "source": [
    "As a result:\n",
    "* 'hr' is seen to follow a uniform distribution, with a slight low at noon.\n",
    "* 'temp' and 'atemp' are very widely spread from 0.2 to 0.8, with certain inhomogeneities in the middle.\n",
    "* 'hum' does not present a centered distribution, with most values above 0.5. It may make sense to normalize this distribution, and to eliminate occurrences where 'hum'=0, since there is no smooth transition towards this value, making one suspect of sensor failure.\n",
    "* 'windspeed' is right-skewed, with a large peak at 0. This variable may benefit from Box-Cox normalization. Larger histogram bins may improve this representation. Why the peak at 0? Is it because a certain minimum windspeed is necessary to activate the sensor? This make sense if one thinks of a very heavy anemometer, which requires some wind to start rotating.\n",
    "* The target 'cnt' is even more right-skewed, with an even larger peak at 0. There are a large number of outlier variables."
   ]
  },
  {
   "cell_type": "markdown",
   "metadata": {},
   "source": [
    "Now it follows to determine if there are significant outliers for each of these numerical columns. As well as further learning about the variables' distribution, a box-plot of each column will provide this insight."
   ]
  },
  {
   "cell_type": "code",
   "execution_count": 10,
   "metadata": {},
   "outputs": [
    {
     "data": {
      "image/png": "[encoded data removed]",
      "text/plain": [
       "<Figure size 1008x1080 with 6 Axes>"
      ]
     },
     "metadata": {
      "needs_background": "light"
     },
     "output_type": "display_data"
    }
   ],
   "source": [
    "fields = ['hr', 'temp', 'atemp', 'hum', 'windspeed', 'cnt']\n",
    "fig, axs = plt.subplots(figsize=(14, 15), ncols=1, nrows=len(fields), sharey=False)\n",
    "for field, ax in zip(fields, axs):\n",
    "    ax.set_title('Distribution of ' + field, fontsize=15)\n",
    "    ax.boxplot(df[field].dropna().values, vert=False, widths=0.7, showmeans=True)\n",
    "fig.tight_layout()"
   ]
  },
  {
   "cell_type": "markdown",
   "metadata": {},
   "source": [
    "Some notes on these results:\n",
    "* **hum:** As confirmed, the lack of a smooth evolution towards the peak at 'hum'=0 makes one think of outliers for this value. This is confirmed at this box-plot, where values of 'hum' below Q1 - 1.5*(Q3 - Q1) are marked as outliers.\n",
    "* **windspeed:** There is a significant number of outliers beyond Q3 + 1.5*(Q3 - Q1).\n",
    "* **cnt:** As previously mentioned, there is a large number of days with an extreme number of bicycle rentals. These are probably to be removed."
   ]
  },
  {
   "cell_type": "markdown",
   "metadata": {
    "id": "J7mGpWl6SXD5"
   },
   "source": [
    "## 2.4 Correlations between columns\n",
    "For determining:\n",
    "* What columns affect most significantly on the target variable\n",
    "* What columns present redundant information\n",
    "\n",
    "It is useful to examine the correlation matrix of all columns in the dataframe."
   ]
  },
  {
   "cell_type": "code",
   "execution_count": 11,
   "metadata": {
    "colab": {
     "base_uri": "https://localhost:8080/",
     "height": 208
    },
    "id": "jBL8rQ6oQVHr",
    "outputId": "e6438740-9251-4290-d75a-ab4b48f75db5"
   },
   "outputs": [
    {
     "data": {
      "image/png": "[encoded data removed]",
      "text/plain": [
       "<Figure size 432x288 with 2 Axes>"
      ]
     },
     "metadata": {
      "needs_background": "light"
     },
     "output_type": "display_data"
    }
   ],
   "source": [
    "corr_mat = sns.heatmap(df.corr(), annot=True, cmap='viridis', center=0, annot_kws={\"fontsize\":12})\n",
    "xtick_labels = corr_mat.get_xmajorticklabels()\n",
    "ytick_labels = corr_mat.get_ymajorticklabels()\n",
    "_ = corr_mat.set_xticklabels(xtick_labels, fontsize = 15)\n",
    "_ = corr_mat.set_yticklabels(ytick_labels, fontsize = 15)"
   ]
  },
  {
   "cell_type": "markdown",
   "metadata": {},
   "source": [
    "Insights extracted from this chart:\n",
    "* 'atemp' and 'temp' are redundant\n",
    "* 'casual' and 'registered' are extremely correlated with 'cnt'. This is obviously because 'cnt' = 'casual' + 'registered'\n",
    "* 'hum' has a very strong negative correlation with 'cnt'\n",
    "* 'temp' and 'atemp' have a strong positive correlation with 'cnt'\n",
    "* 'hr' has a strong positive correlation with 'cnt'\n",
    "\n",
    "Let's take a further look at the relations between 'hr', 'temp', 'hum', and 'windspeed' with 'cnt'."
   ]
  },
  {
   "cell_type": "code",
   "execution_count": 12,
   "metadata": {
    "colab": {
     "base_uri": "https://localhost:8080/",
     "height": 164
    },
    "id": "9rfqcaJhS8ya",
    "outputId": "0e23abca-d352-4676-89ce-8fce983a2b1c",
    "scrolled": false
   },
   "outputs": [
    {
     "data": {
      "image/png": "[encoded data removed]",
      "text/plain": [
       "<Figure size 432x288 with 1 Axes>"
      ]
     },
     "metadata": {
      "needs_background": "light"
     },
     "output_type": "display_data"
    },
    {
     "data": {
      "image/png": "[encoded data removed]",
      "text/plain": [
       "<Figure size 432x288 with 1 Axes>"
      ]
     },
     "metadata": {
      "needs_background": "light"
     },
     "output_type": "display_data"
    },
    {
     "data": {
      "image/png": "[encoded data removed]",
      "text/plain": [
       "<Figure size 432x288 with 1 Axes>"
      ]
     },
     "metadata": {
      "needs_background": "light"
     },
     "output_type": "display_data"
    },
    {
     "data": {
      "image/png": "[encoded data removed]",
      "text/plain": [
       "<Figure size 432x288 with 1 Axes>"
      ]
     },
     "metadata": {
      "needs_background": "light"
     },
     "output_type": "display_data"
    }
   ],
   "source": [
    "for x in ['hr', 'temp', 'hum', 'windspeed']:\n",
    "    plt.figure()\n",
    "    plt.title('Evolution of Total Biker Count with ' + x, fontsize=18)\n",
    "    plt.scatter(df[x], df['cnt'])\n",
    "    plt.xlabel(x, fontsize=15)\n",
    "    plt.ylabel('cnt', fontsize=15)\n",
    "    plt.xticks(fontsize=14)\n",
    "    plt.yticks(fontsize=14)"
   ]
  },
  {
   "cell_type": "markdown",
   "metadata": {},
   "source": [
    "The relationships between the target 'cnt' and these three variables are not as straight-forward as one would expect:\n",
    "* **hr:** One can see that there is a significant peak in biker traffic in the middle of the afternoon (17:00), precisely matching the habitual hour of the commute home from the workplace. After this peak, the maximum traffic for a given hour decreases until the early morning of the next day (around 4:00), when traffic increases again. This is therefore not a monotonic relationship, although the positive correlation between both variables may make one think so.\n",
    "* **temp (and atemp):** The relation between temperature and bicycle traffic is more sensible, since as temperature increases, bicycle traffic increases clearly. There is even a temperature at which the minimum recorded traffic is beyond 0.\n",
    "* **hum:** The effect of humidity on traffic is harder to clarify. However, it is visible that for very low humidities, no cyclists are recorded. This makes one think that recordings in which 'hum' is 0 correspond to measurement errors that have to be removed.\n",
    "* **windspeed:** If windspeed is relatively large, maximum bicycle traffic decreases. There is a very strong usage of these rental bicycles when the windspeed is 0."
   ]
  },
  {
   "cell_type": "markdown",
   "metadata": {},
   "source": [
    "## 2.5 Principal Component Analysis\n",
    "To examine whether defining new features based linear combinations of original features may prove useful for the prediction, an initial PCA of the dataset might prove useful. In this case, we will focus only on the four previously examined numerical features, in the first place normalizing 'hr' in the same way as 'temp', 'hum', and 'windspeed'."
   ]
  },
  {
   "cell_type": "code",
   "execution_count": 13,
   "metadata": {},
   "outputs": [
    {
     "data": {
      "text/plain": [
       "PCA(n_components='mle')"
      ]
     },
     "execution_count": 13,
     "metadata": {},
     "output_type": "execute_result"
    }
   ],
   "source": [
    "df['hr_minmax'] = (df['hr'] - df['hr'].min()) / (df['hr'].max() - df['hr'].min())\n",
    "pca = PCA(n_components='mle')\n",
    "pca.fit(df[['hr_minmax', 'temp', 'hum', 'windspeed']].dropna())"
   ]
  },
  {
   "cell_type": "code",
   "execution_count": 14,
   "metadata": {},
   "outputs": [
    {
     "data": {
      "text/plain": [
       "3"
      ]
     },
     "execution_count": 14,
     "metadata": {},
     "output_type": "execute_result"
    }
   ],
   "source": [
    "pca.n_components_"
   ]
  },
  {
   "cell_type": "code",
   "execution_count": 15,
   "metadata": {},
   "outputs": [
    {
     "name": "stdout",
     "output_type": "stream",
     "text": [
      "Original Feature Space: \n",
      " [[ 1.45030439  0.63392716  0.35365478  0.27150121]\n",
      " [ 0.63126884 -0.49183984  0.60181545  0.25582605]\n",
      " [ 0.21322393  0.50005435 -0.29602211  0.44363473]]\n"
     ]
    }
   ],
   "source": [
    "X_transformed = pd.DataFrame(np.eye(3))\n",
    "X_original = pca.inverse_transform(X_transformed)\n",
    "print('Original Feature Space: \\n', X_original)"
   ]
  },
  {
   "cell_type": "markdown",
   "metadata": {},
   "source": [
    "Here, one can see how a simple PCA analysis, where the number of transformed features is automatically set, combines these four numerical variables into three. As we can see from the inverse transformation from the transformed feature space to the original space:\n",
    "* **First transformed feature:** 1.45030439 * hr + 0.63392716 * temp + 0.35365478 * hum +  0.27150121 * windspeed\n",
    "* **Second transformed feature:** 0.63126884 * hr - 0.49183984 * temp + 0.60181545 * hum +  0.25582605 * windspeed\n",
    "* **Third transformed feature:** 0.21322393 * hr + 0.50005435 * temp - 0.29602211 * hum +  0.44363473 * windspeed\n",
    "\n",
    "These insights might be useful later on in the study."
   ]
  },
  {
   "cell_type": "markdown",
   "metadata": {
    "id": "0_q5G62aXJKw"
   },
   "source": [
    "## 3. Data Engineering \n",
    "\n",
    "### 3.1 Encoding and Transforming 'dteday'\n",
    "**What to do with 'dteday'?**\n",
    "It makes scarce sense to use this column as is to train the model, since it simply has a single value for each day in the dataset, each day repeating 24 times, per each of the 24 hours in the day. Instead, one has to extract valuable information from the date, grouping different dates into groups that add value to our prediction. These are some possible groupings for dates that add meaning to the prediction:\n",
    "* Grouping by season: Clearly, as the weather changes with the seasons, it is expected for bike rentals to vary. A snowy Washington D.C. during the winter will definitely not see as many rentals as in a hot summer day. However, one has to be careful here, since linking seasons to weather may introduce features redundant with others such as 'temp', 'hum', or 'windspeed'.\n",
    "* Grouping by holiday-workday: Since during national holidays people might rent bicycles for leisure rather than for commuting to work, there may be variations in 'cnt' from holidays to workdays. Thus, one can extract information from 'dteday', by separating days into holidays (including weekends and school summer vacations, as well as national holidays) and workdays.\n",
    "\n",
    "These groupings can be expressed in terms of two new features."
   ]
  },
  {
   "cell_type": "markdown",
   "metadata": {},
   "source": [
    "#### 3.1.1 Creating a column for each season\n",
    "For this feature engineering, we first started by extracting the month for each date by using the DateTimeIndex method applied to our column dteday using the month condition"
   ]
  },
  {
   "cell_type": "code",
   "execution_count": 16,
   "metadata": {},
   "outputs": [],
   "source": [
    "df['Month'] = pd.DatetimeIndex(df['dteday']).month"
   ]
  },
  {
   "cell_type": "markdown",
   "metadata": {},
   "source": [
    "The second step of the creation consists of creating a dictionnary of the seasons with respect to the months extracted in the previous step. "
   ]
  },
  {
   "cell_type": "code",
   "execution_count": 17,
   "metadata": {},
   "outputs": [
    {
     "data": {
      "text/html": [
       "<div>\n",
       "<style scoped>\n",
       "    .dataframe tbody tr th:only-of-type {\n",
       "        vertical-align: middle;\n",
       "    }\n",
       "\n",
       "    .dataframe tbody tr th {\n",
       "        vertical-align: top;\n",
       "    }\n",
       "\n",
       "    .dataframe thead th {\n",
       "        text-align: right;\n",
       "    }\n",
       "</style>\n",
       "<table border=\"1\" class=\"dataframe\">\n",
       "  <thead>\n",
       "    <tr style=\"text-align: right;\">\n",
       "      <th></th>\n",
       "      <th>Winter</th>\n",
       "      <th>Spring</th>\n",
       "      <th>Summer</th>\n",
       "      <th>Fall</th>\n",
       "    </tr>\n",
       "    <tr>\n",
       "      <th>instant</th>\n",
       "      <th></th>\n",
       "      <th></th>\n",
       "      <th></th>\n",
       "      <th></th>\n",
       "    </tr>\n",
       "  </thead>\n",
       "  <tbody>\n",
       "    <tr>\n",
       "      <th>1</th>\n",
       "      <td>1</td>\n",
       "      <td>0</td>\n",
       "      <td>0</td>\n",
       "      <td>0</td>\n",
       "    </tr>\n",
       "    <tr>\n",
       "      <th>2</th>\n",
       "      <td>1</td>\n",
       "      <td>0</td>\n",
       "      <td>0</td>\n",
       "      <td>0</td>\n",
       "    </tr>\n",
       "    <tr>\n",
       "      <th>3</th>\n",
       "      <td>1</td>\n",
       "      <td>0</td>\n",
       "      <td>0</td>\n",
       "      <td>0</td>\n",
       "    </tr>\n",
       "    <tr>\n",
       "      <th>4</th>\n",
       "      <td>1</td>\n",
       "      <td>0</td>\n",
       "      <td>0</td>\n",
       "      <td>0</td>\n",
       "    </tr>\n",
       "    <tr>\n",
       "      <th>5</th>\n",
       "      <td>1</td>\n",
       "      <td>0</td>\n",
       "      <td>0</td>\n",
       "      <td>0</td>\n",
       "    </tr>\n",
       "    <tr>\n",
       "      <th>6</th>\n",
       "      <td>1</td>\n",
       "      <td>0</td>\n",
       "      <td>0</td>\n",
       "      <td>0</td>\n",
       "    </tr>\n",
       "    <tr>\n",
       "      <th>7</th>\n",
       "      <td>1</td>\n",
       "      <td>0</td>\n",
       "      <td>0</td>\n",
       "      <td>0</td>\n",
       "    </tr>\n",
       "    <tr>\n",
       "      <th>8</th>\n",
       "      <td>1</td>\n",
       "      <td>0</td>\n",
       "      <td>0</td>\n",
       "      <td>0</td>\n",
       "    </tr>\n",
       "    <tr>\n",
       "      <th>9</th>\n",
       "      <td>1</td>\n",
       "      <td>0</td>\n",
       "      <td>0</td>\n",
       "      <td>0</td>\n",
       "    </tr>\n",
       "    <tr>\n",
       "      <th>10</th>\n",
       "      <td>1</td>\n",
       "      <td>0</td>\n",
       "      <td>0</td>\n",
       "      <td>0</td>\n",
       "    </tr>\n",
       "  </tbody>\n",
       "</table>\n",
       "</div>"
      ],
      "text/plain": [
       "         Winter  Spring  Summer  Fall\n",
       "instant                              \n",
       "1             1       0       0     0\n",
       "2             1       0       0     0\n",
       "3             1       0       0     0\n",
       "4             1       0       0     0\n",
       "5             1       0       0     0\n",
       "6             1       0       0     0\n",
       "7             1       0       0     0\n",
       "8             1       0       0     0\n",
       "9             1       0       0     0\n",
       "10            1       0       0     0"
      ]
     },
     "execution_count": 17,
     "metadata": {},
     "output_type": "execute_result"
    }
   ],
   "source": [
    "season_months = {\"Winter\": [1, 2, 3], \"Spring\": [4, 5, 6], \"Summer\": [7, 8, 9], \"Fall\": [10, 11, 12]}\n",
    "for season in season_months.keys():\n",
    "    df[season] = df['Month'].apply(lambda m: 1 if m in season_months[season] else 0)\n",
    "\n",
    "df[[f for f in season_months.keys()]].head(10)"
   ]
  },
  {
   "cell_type": "markdown",
   "metadata": {},
   "source": [
    "#### 3.1.2 Creating a column for holidays\n",
    "Extracting the day of the week and defining if the day is workday or weekend"
   ]
  },
  {
   "cell_type": "code",
   "execution_count": 18,
   "metadata": {},
   "outputs": [
    {
     "data": {
      "text/plain": [
       "instant\n",
       "1     Saturday\n",
       "2     Saturday\n",
       "3     Saturday\n",
       "4     Saturday\n",
       "5     Saturday\n",
       "6     Saturday\n",
       "7     Saturday\n",
       "8     Saturday\n",
       "9     Saturday\n",
       "10    Saturday\n",
       "Name: day_of_week, dtype: object"
      ]
     },
     "execution_count": 18,
     "metadata": {},
     "output_type": "execute_result"
    }
   ],
   "source": [
    "df['day_of_week'] = df['dteday'].dt.day_name()\n",
    "df['day_of_week'].head(10)"
   ]
  },
  {
   "cell_type": "code",
   "execution_count": 19,
   "metadata": {},
   "outputs": [
    {
     "data": {
      "text/html": [
       "<div>\n",
       "<style scoped>\n",
       "    .dataframe tbody tr th:only-of-type {\n",
       "        vertical-align: middle;\n",
       "    }\n",
       "\n",
       "    .dataframe tbody tr th {\n",
       "        vertical-align: top;\n",
       "    }\n",
       "\n",
       "    .dataframe thead th {\n",
       "        text-align: right;\n",
       "    }\n",
       "</style>\n",
       "<table border=\"1\" class=\"dataframe\">\n",
       "  <thead>\n",
       "    <tr style=\"text-align: right;\">\n",
       "      <th></th>\n",
       "      <th>Weekend</th>\n",
       "      <th>Workday</th>\n",
       "    </tr>\n",
       "    <tr>\n",
       "      <th>instant</th>\n",
       "      <th></th>\n",
       "      <th></th>\n",
       "    </tr>\n",
       "  </thead>\n",
       "  <tbody>\n",
       "    <tr>\n",
       "      <th>1</th>\n",
       "      <td>1</td>\n",
       "      <td>0</td>\n",
       "    </tr>\n",
       "    <tr>\n",
       "      <th>2</th>\n",
       "      <td>1</td>\n",
       "      <td>0</td>\n",
       "    </tr>\n",
       "    <tr>\n",
       "      <th>3</th>\n",
       "      <td>1</td>\n",
       "      <td>0</td>\n",
       "    </tr>\n",
       "    <tr>\n",
       "      <th>4</th>\n",
       "      <td>1</td>\n",
       "      <td>0</td>\n",
       "    </tr>\n",
       "    <tr>\n",
       "      <th>5</th>\n",
       "      <td>1</td>\n",
       "      <td>0</td>\n",
       "    </tr>\n",
       "    <tr>\n",
       "      <th>6</th>\n",
       "      <td>1</td>\n",
       "      <td>0</td>\n",
       "    </tr>\n",
       "    <tr>\n",
       "      <th>7</th>\n",
       "      <td>1</td>\n",
       "      <td>0</td>\n",
       "    </tr>\n",
       "    <tr>\n",
       "      <th>8</th>\n",
       "      <td>1</td>\n",
       "      <td>0</td>\n",
       "    </tr>\n",
       "    <tr>\n",
       "      <th>9</th>\n",
       "      <td>1</td>\n",
       "      <td>0</td>\n",
       "    </tr>\n",
       "    <tr>\n",
       "      <th>10</th>\n",
       "      <td>1</td>\n",
       "      <td>0</td>\n",
       "    </tr>\n",
       "  </tbody>\n",
       "</table>\n",
       "</div>"
      ],
      "text/plain": [
       "         Weekend  Workday\n",
       "instant                  \n",
       "1              1        0\n",
       "2              1        0\n",
       "3              1        0\n",
       "4              1        0\n",
       "5              1        0\n",
       "6              1        0\n",
       "7              1        0\n",
       "8              1        0\n",
       "9              1        0\n",
       "10             1        0"
      ]
     },
     "execution_count": 19,
     "metadata": {},
     "output_type": "execute_result"
    }
   ],
   "source": [
    "weekday = {\"Weekend\": [\"Saturday\", \"Sunday\"], \"Workday\": [\"Monday\",\"Tuesday\", \"Wednesday\", \"Thursday\", \"Friday\"]}\n",
    "for day in weekday.keys():\n",
    "    df[day] = df[\"day_of_week\"].apply(lambda m: 1 if m in weekday[day] else 0)\n",
    "    \n",
    "df[[f for f in weekday.keys()]].head(10)"
   ]
  },
  {
   "cell_type": "markdown",
   "metadata": {},
   "source": [
    "Let's take a similar approach and define now the school holidays basing into the data from the dc public schools department\n",
    "https://dcps.dc.gov/sites/default/files/dc/sites/dcps/publication/attachments/DCPS%20School%20Calendar%202011-2012.pdf\n"
   ]
  },
  {
   "cell_type": "code",
   "execution_count": 20,
   "metadata": {},
   "outputs": [],
   "source": [
    "Summer = df[(df['dteday'] > '2011-06-14 01:00:00') & (df['dteday'] <= '2011-08-22 04:00:00')]\n",
    "Winter= df[(df['dteday'] > '2011-12-22 01:00:00') & (df['dteday'] <= '2012-01-03 04:00:00')]\n",
    "Thanksgiving = df[(df['dteday'] > '2011-11-24 01:00:00') & (df['dteday'] <= '2011-11-27 04:00:00')]\n"
   ]
  },
  {
   "cell_type": "code",
   "execution_count": null,
   "metadata": {},
   "outputs": [],
   "source": []
  },
  {
   "cell_type": "code",
   "execution_count": null,
   "metadata": {},
   "outputs": [],
   "source": []
  },
  {
   "cell_type": "markdown",
   "metadata": {},
   "source": [
    "### 3.2 Cleaning, Encoding, and Transforming 'weathersit'\n",
    "**What to do with 'weathersit'?** As seen in the previous section, this feature has 4 unique values:\n",
    "* \"Clear, Few clouds, Partly cloudy, Partly cloudy\"\n",
    "* \"Mist + Cloudy, Mist + Broken clouds, Mist + Few clouds, Mist\"\n",
    "* \"Light Snow, Light Rain + Thunderstorm + Scattered clouds, Light Rain + Scattered clouds\"\n",
    "* \"Heavy Rain + Ice Pallets + Thunderstorm + Mist, Snow + Fog\"\n",
    "* NaN\n",
    "\n",
    "It seems that multiple weather conditions have already been grouped into the same value for 'weathersit'. For instance, \"Heavy Rain\" and \"Snow + Fog\" have been placed within the same 'weathersit' category. Therefore, one can **simply one-hot encode** these 4 categories, after mapping their names into more intuitive ones and dealing with NaN values."
   ]
  },
  {
   "cell_type": "markdown",
   "metadata": {},
   "source": [
    "**How to deal with NaN values?** Two different alternative methods are considered here and are defined in the following function:\n",
    "* Impute NaN values with the most frequently occurring weather condition of the corresponding month. This requires inputting column 'Month' to the user-defined function. Specified with method='most_frequent'.\n",
    "* Impute NaN values based on the weather conditions of neighboring instants. Specified with method='closest_entry'."
   ]
  },
  {
   "cell_type": "code",
   "execution_count": 21,
   "metadata": {},
   "outputs": [],
   "source": [
    "def map_and_impute_weather(df, method='most_frequent'):\n",
    "    #This method assumes that df has only columns 'Month' and 'weathersit'\n",
    "    \n",
    "    #First, rename the different values of 'weathersit' with more intuitive names\n",
    "    weather_mapping = {\"Clear, Few clouds, Partly cloudy, Partly cloudy\": \"Clear\",\n",
    "                       \"Mist + Cloudy, Mist + Broken clouds, Mist + Few clouds, Mist\": \"Mist\",\n",
    "                       \"Light Snow, Light Rain + Thunderstorm + Scattered clouds, Light Rain + Scattered clouds\": \"Precipitation\",\n",
    "                       \"Heavy Rain + Ice Pallets + Thunderstorm + Mist, Snow + Fog\": \"Heavy Weather\"}\n",
    "    df[['weathersit']] = df[['weathersit']].replace(weather_mapping)\n",
    "    \n",
    "    if method == 'most_frequent':\n",
    "        #This first method is based on imputing null values with the most common weather conditions of the month.\n",
    "        \n",
    "        #Create a lookup table including the most frequent weather conditions of each month\n",
    "        lookup = df\\\n",
    "                    .groupby(by=['Month', 'weathersit'])['Month']\\\n",
    "                    .agg(pd.Series.count)\\\n",
    "                    .unstack(level=-1)\n",
    "        lookup = lookup.idxmax(axis=1).rename('Most_Frequent')\n",
    "\n",
    "        #Then, join the null rows of the original dataframe with the lookup table, to impute these values.\n",
    "        df.loc[df['weathersit'].isna(), 'weathersit'] = df.loc[df['weathersit'].isna(), :].join(lookup, on='Month').drop(columns='weathersit').rename(columns={'Most_Frequent': 'weathersit'})\n",
    "        \n",
    "        \n",
    "    if method == 'closest_entry':\n",
    "        #This second method imputes null values of 'weathersit' with the values of the closest entry in time.\n",
    "        df[['weathersit']] = df[['weathersit']]\\\n",
    "                                                .fillna(method='bfill', axis=0)\\\n",
    "                                                .fillna(method='ffill', axis=0)\n",
    "        \n",
    "    df.drop(columns='Month', inplace=True)\n",
    "    return df"
   ]
  },
  {
   "cell_type": "code",
   "execution_count": 22,
   "metadata": {},
   "outputs": [
    {
     "name": "stdout",
     "output_type": "stream",
     "text": [
      "method='most_frequent' results in 0 NaN values. method='closest_entry' results in 0 NaN values.\n"
     ]
    },
    {
     "name": "stderr",
     "output_type": "stream",
     "text": [
      "/Library/Frameworks/Python.framework/Versions/3.9/lib/python3.9/site-packages/pandas/core/frame.py:3069: SettingWithCopyWarning: \n",
      "A value is trying to be set on a copy of a slice from a DataFrame.\n",
      "Try using .loc[row_indexer,col_indexer] = value instead\n",
      "\n",
      "See the caveats in the documentation: https://pandas.pydata.org/pandas-docs/stable/user_guide/indexing.html#returning-a-view-versus-a-copy\n",
      "  self[k1] = value[k2]\n",
      "/Library/Frameworks/Python.framework/Versions/3.9/lib/python3.9/site-packages/pandas/core/indexing.py:1715: SettingWithCopyWarning: \n",
      "A value is trying to be set on a copy of a slice from a DataFrame.\n",
      "Try using .loc[row_indexer,col_indexer] = value instead\n",
      "\n",
      "See the caveats in the documentation: https://pandas.pydata.org/pandas-docs/stable/user_guide/indexing.html#returning-a-view-versus-a-copy\n",
      "  isetter(loc, v)\n",
      "/Library/Frameworks/Python.framework/Versions/3.9/lib/python3.9/site-packages/pandas/core/frame.py:4167: SettingWithCopyWarning: \n",
      "A value is trying to be set on a copy of a slice from a DataFrame\n",
      "\n",
      "See the caveats in the documentation: https://pandas.pydata.org/pandas-docs/stable/user_guide/indexing.html#returning-a-view-versus-a-copy\n",
      "  return super().drop(\n"
     ]
    }
   ],
   "source": [
    "print(f\"method='most_frequent' results in {map_and_impute_weather(df[['Month', 'weathersit']], method='most_frequent').isna().sum()[0]} NaN values. method='closest_entry' results in {map_and_impute_weather(df[['Month', 'weathersit']], method='closest_entry').isna().sum()[0]} NaN values.\")"
   ]
  },
  {
   "cell_type": "markdown",
   "metadata": {},
   "source": [
    "Based on this function, and making use of scikit-learn's `OneHotEncoder`, we will be able later on to process this column."
   ]
  },
  {
   "cell_type": "code",
   "execution_count": 23,
   "metadata": {},
   "outputs": [],
   "source": [
    "#weathersit_pipe = Pipeline([('mapper_and_imputer', map_and_impute_weather),('weather_encoder', OneHotEncoder(sparse=False))])"
   ]
  },
  {
   "cell_type": "markdown",
   "metadata": {},
   "source": [
    "### 3.3 Encoding and Transforming 'hr'\n",
    "**What should be done with 'hr'?** The hour of the day, as seen previously, is significantly related with the amount of rented bicycles, with a large peak of 'cnt' in the middle of afternoon and a decrease afterwards. Three sources of information from 'hr' can be extracted:\n",
    "1. One can simply normalize 'hr', such that it is within 0 and 1, and treat it as another numerical value. This may be applicable for a non-linear model, since as we have seen, the relationship between 'cnt' and 'hr' is not monotonic.\n",
    "2. One can determine, for the time of the year, which hours of the day have sunlight and which do not.\n",
    "3. Lastly, one can associate particular hours during weekdays to commuting to and from the workplace. In other words, one can classify hours as so-called *rush-hours*."
   ]
  },
  {
   "cell_type": "markdown",
   "metadata": {},
   "source": [
    "#### 3.3.1 Normalizing 'hr'\n",
    "The min-max normalization of 'hr' is very easily done by making use of scikit-learn's `MinMaxScaler`. This will be taken into account later on."
   ]
  },
  {
   "cell_type": "markdown",
   "metadata": {},
   "source": [
    "#### 3.3.2 Creating a column specifying whether it is day\n",
    "In order to define this additional column, it is necessary to import data regarding the sunset and sunset hours of Washington D.C. In this case, a table has been created from the data in https://www.worlddata.info/america/usa/sunset.php."
   ]
  },
  {
   "cell_type": "code",
   "execution_count": 24,
   "metadata": {},
   "outputs": [
    {
     "data": {
      "text/html": [
       "<div>\n",
       "<style scoped>\n",
       "    .dataframe tbody tr th:only-of-type {\n",
       "        vertical-align: middle;\n",
       "    }\n",
       "\n",
       "    .dataframe tbody tr th {\n",
       "        vertical-align: top;\n",
       "    }\n",
       "\n",
       "    .dataframe thead th {\n",
       "        text-align: right;\n",
       "    }\n",
       "</style>\n",
       "<table border=\"1\" class=\"dataframe\">\n",
       "  <thead>\n",
       "    <tr style=\"text-align: right;\">\n",
       "      <th></th>\n",
       "      <th>Month</th>\n",
       "      <th>Sunrise</th>\n",
       "      <th>Sunset</th>\n",
       "    </tr>\n",
       "  </thead>\n",
       "  <tbody>\n",
       "    <tr>\n",
       "      <th>0</th>\n",
       "      <td>Januar</td>\n",
       "      <td>2021-02-24 07:23:00</td>\n",
       "      <td>2021-02-24 17:11:00</td>\n",
       "    </tr>\n",
       "    <tr>\n",
       "      <th>1</th>\n",
       "      <td>Februar</td>\n",
       "      <td>2021-02-24 06:57:00</td>\n",
       "      <td>2021-02-24 17:47:00</td>\n",
       "    </tr>\n",
       "    <tr>\n",
       "      <th>2</th>\n",
       "      <td>März</td>\n",
       "      <td>2021-02-24 07:17:00</td>\n",
       "      <td>2021-02-24 19:16:00</td>\n",
       "    </tr>\n",
       "    <tr>\n",
       "      <th>3</th>\n",
       "      <td>April</td>\n",
       "      <td>2021-02-24 06:29:00</td>\n",
       "      <td>2021-02-24 19:46:00</td>\n",
       "    </tr>\n",
       "    <tr>\n",
       "      <th>4</th>\n",
       "      <td>Mai</td>\n",
       "      <td>2021-02-24 05:53:00</td>\n",
       "      <td>2021-02-24 20:15:00</td>\n",
       "    </tr>\n",
       "  </tbody>\n",
       "</table>\n",
       "</div>"
      ],
      "text/plain": [
       "     Month             Sunrise              Sunset\n",
       "0   Januar 2021-02-24 07:23:00 2021-02-24 17:11:00\n",
       "1  Februar 2021-02-24 06:57:00 2021-02-24 17:47:00\n",
       "2     März 2021-02-24 07:17:00 2021-02-24 19:16:00\n",
       "3    April 2021-02-24 06:29:00 2021-02-24 19:46:00\n",
       "4      Mai 2021-02-24 05:53:00 2021-02-24 20:15:00"
      ]
     },
     "execution_count": 24,
     "metadata": {},
     "output_type": "execute_result"
    }
   ],
   "source": [
    "sun_movements = pd.read_csv(\n",
    "                            'WashingtonDC_Sun.csv', \n",
    "                            sep='\\t', \n",
    "                            header=0, \n",
    "                            parse_dates=['Sunrise', 'Sunset'])\\\n",
    "                    .drop(columns='Hours of daylight')\n",
    "sun_movements.head()"
   ]
  },
  {
   "cell_type": "code",
   "execution_count": 25,
   "metadata": {},
   "outputs": [
    {
     "data": {
      "text/html": [
       "<div>\n",
       "<style scoped>\n",
       "    .dataframe tbody tr th:only-of-type {\n",
       "        vertical-align: middle;\n",
       "    }\n",
       "\n",
       "    .dataframe tbody tr th {\n",
       "        vertical-align: top;\n",
       "    }\n",
       "\n",
       "    .dataframe thead th {\n",
       "        text-align: right;\n",
       "    }\n",
       "</style>\n",
       "<table border=\"1\" class=\"dataframe\">\n",
       "  <thead>\n",
       "    <tr style=\"text-align: right;\">\n",
       "      <th></th>\n",
       "      <th>Month</th>\n",
       "      <th>Sunrise</th>\n",
       "      <th>Sunset</th>\n",
       "    </tr>\n",
       "  </thead>\n",
       "  <tbody>\n",
       "    <tr>\n",
       "      <th>0</th>\n",
       "      <td>1</td>\n",
       "      <td>7</td>\n",
       "      <td>17</td>\n",
       "    </tr>\n",
       "    <tr>\n",
       "      <th>1</th>\n",
       "      <td>2</td>\n",
       "      <td>6</td>\n",
       "      <td>17</td>\n",
       "    </tr>\n",
       "    <tr>\n",
       "      <th>2</th>\n",
       "      <td>3</td>\n",
       "      <td>7</td>\n",
       "      <td>19</td>\n",
       "    </tr>\n",
       "    <tr>\n",
       "      <th>3</th>\n",
       "      <td>4</td>\n",
       "      <td>6</td>\n",
       "      <td>19</td>\n",
       "    </tr>\n",
       "    <tr>\n",
       "      <th>4</th>\n",
       "      <td>5</td>\n",
       "      <td>5</td>\n",
       "      <td>20</td>\n",
       "    </tr>\n",
       "  </tbody>\n",
       "</table>\n",
       "</div>"
      ],
      "text/plain": [
       "   Month  Sunrise  Sunset\n",
       "0      1        7      17\n",
       "1      2        6      17\n",
       "2      3        7      19\n",
       "3      4        6      19\n",
       "4      5        5      20"
      ]
     },
     "execution_count": 25,
     "metadata": {},
     "output_type": "execute_result"
    }
   ],
   "source": [
    "sun_movements['Month'] = np.arange(1, len(sun_movements) + 1)\n",
    "sun_movements['Sunrise'] = sun_movements['Sunrise'].dt.hour\n",
    "sun_movements['Sunset'] = sun_movements['Sunset'].dt.hour\n",
    "sun_movements.head()"
   ]
  },
  {
   "cell_type": "markdown",
   "metadata": {},
   "source": [
    "Then, this data is incorporated by joining this table with the original dataset. For every value in 'hr', it is examined whether it is within the Sunrise-Sunset time interval. Since light is present *before* the sun rises and *after* the sun sets, this interval includes the whole hours in which the sun rises and sets."
   ]
  },
  {
   "cell_type": "code",
   "execution_count": 26,
   "metadata": {},
   "outputs": [],
   "source": [
    "df = df.merge(sun_movements, on='Month', how='left')"
   ]
  },
  {
   "cell_type": "code",
   "execution_count": 31,
   "metadata": {},
   "outputs": [
    {
     "data": {
      "text/html": [
       "<div>\n",
       "<style scoped>\n",
       "    .dataframe tbody tr th:only-of-type {\n",
       "        vertical-align: middle;\n",
       "    }\n",
       "\n",
       "    .dataframe tbody tr th {\n",
       "        vertical-align: top;\n",
       "    }\n",
       "\n",
       "    .dataframe thead th {\n",
       "        text-align: right;\n",
       "    }\n",
       "</style>\n",
       "<table border=\"1\" class=\"dataframe\">\n",
       "  <thead>\n",
       "    <tr style=\"text-align: right;\">\n",
       "      <th></th>\n",
       "      <th>hr</th>\n",
       "      <th>Sunrise</th>\n",
       "      <th>Sunset</th>\n",
       "      <th>Daylight</th>\n",
       "    </tr>\n",
       "  </thead>\n",
       "  <tbody>\n",
       "    <tr>\n",
       "      <th>0</th>\n",
       "      <td>0</td>\n",
       "      <td>7</td>\n",
       "      <td>17</td>\n",
       "      <td>0</td>\n",
       "    </tr>\n",
       "    <tr>\n",
       "      <th>1</th>\n",
       "      <td>1</td>\n",
       "      <td>7</td>\n",
       "      <td>17</td>\n",
       "      <td>0</td>\n",
       "    </tr>\n",
       "    <tr>\n",
       "      <th>2</th>\n",
       "      <td>2</td>\n",
       "      <td>7</td>\n",
       "      <td>17</td>\n",
       "      <td>0</td>\n",
       "    </tr>\n",
       "    <tr>\n",
       "      <th>3</th>\n",
       "      <td>3</td>\n",
       "      <td>7</td>\n",
       "      <td>17</td>\n",
       "      <td>0</td>\n",
       "    </tr>\n",
       "    <tr>\n",
       "      <th>4</th>\n",
       "      <td>4</td>\n",
       "      <td>7</td>\n",
       "      <td>17</td>\n",
       "      <td>0</td>\n",
       "    </tr>\n",
       "    <tr>\n",
       "      <th>5</th>\n",
       "      <td>5</td>\n",
       "      <td>7</td>\n",
       "      <td>17</td>\n",
       "      <td>0</td>\n",
       "    </tr>\n",
       "    <tr>\n",
       "      <th>6</th>\n",
       "      <td>6</td>\n",
       "      <td>7</td>\n",
       "      <td>17</td>\n",
       "      <td>0</td>\n",
       "    </tr>\n",
       "    <tr>\n",
       "      <th>7</th>\n",
       "      <td>7</td>\n",
       "      <td>7</td>\n",
       "      <td>17</td>\n",
       "      <td>1</td>\n",
       "    </tr>\n",
       "    <tr>\n",
       "      <th>8</th>\n",
       "      <td>8</td>\n",
       "      <td>7</td>\n",
       "      <td>17</td>\n",
       "      <td>1</td>\n",
       "    </tr>\n",
       "    <tr>\n",
       "      <th>9</th>\n",
       "      <td>9</td>\n",
       "      <td>7</td>\n",
       "      <td>17</td>\n",
       "      <td>1</td>\n",
       "    </tr>\n",
       "    <tr>\n",
       "      <th>10</th>\n",
       "      <td>10</td>\n",
       "      <td>7</td>\n",
       "      <td>17</td>\n",
       "      <td>1</td>\n",
       "    </tr>\n",
       "    <tr>\n",
       "      <th>11</th>\n",
       "      <td>11</td>\n",
       "      <td>7</td>\n",
       "      <td>17</td>\n",
       "      <td>1</td>\n",
       "    </tr>\n",
       "    <tr>\n",
       "      <th>12</th>\n",
       "      <td>12</td>\n",
       "      <td>7</td>\n",
       "      <td>17</td>\n",
       "      <td>1</td>\n",
       "    </tr>\n",
       "    <tr>\n",
       "      <th>13</th>\n",
       "      <td>13</td>\n",
       "      <td>7</td>\n",
       "      <td>17</td>\n",
       "      <td>1</td>\n",
       "    </tr>\n",
       "    <tr>\n",
       "      <th>14</th>\n",
       "      <td>14</td>\n",
       "      <td>7</td>\n",
       "      <td>17</td>\n",
       "      <td>1</td>\n",
       "    </tr>\n",
       "    <tr>\n",
       "      <th>15</th>\n",
       "      <td>15</td>\n",
       "      <td>7</td>\n",
       "      <td>17</td>\n",
       "      <td>1</td>\n",
       "    </tr>\n",
       "    <tr>\n",
       "      <th>16</th>\n",
       "      <td>16</td>\n",
       "      <td>7</td>\n",
       "      <td>17</td>\n",
       "      <td>1</td>\n",
       "    </tr>\n",
       "    <tr>\n",
       "      <th>17</th>\n",
       "      <td>17</td>\n",
       "      <td>7</td>\n",
       "      <td>17</td>\n",
       "      <td>1</td>\n",
       "    </tr>\n",
       "    <tr>\n",
       "      <th>18</th>\n",
       "      <td>18</td>\n",
       "      <td>7</td>\n",
       "      <td>17</td>\n",
       "      <td>0</td>\n",
       "    </tr>\n",
       "    <tr>\n",
       "      <th>19</th>\n",
       "      <td>19</td>\n",
       "      <td>7</td>\n",
       "      <td>17</td>\n",
       "      <td>0</td>\n",
       "    </tr>\n",
       "  </tbody>\n",
       "</table>\n",
       "</div>"
      ],
      "text/plain": [
       "    hr  Sunrise  Sunset  Daylight\n",
       "0    0        7      17         0\n",
       "1    1        7      17         0\n",
       "2    2        7      17         0\n",
       "3    3        7      17         0\n",
       "4    4        7      17         0\n",
       "5    5        7      17         0\n",
       "6    6        7      17         0\n",
       "7    7        7      17         1\n",
       "8    8        7      17         1\n",
       "9    9        7      17         1\n",
       "10  10        7      17         1\n",
       "11  11        7      17         1\n",
       "12  12        7      17         1\n",
       "13  13        7      17         1\n",
       "14  14        7      17         1\n",
       "15  15        7      17         1\n",
       "16  16        7      17         1\n",
       "17  17        7      17         1\n",
       "18  18        7      17         0\n",
       "19  19        7      17         0"
      ]
     },
     "execution_count": 31,
     "metadata": {},
     "output_type": "execute_result"
    }
   ],
   "source": [
    "df['Daylight'] = df[['hr', 'Sunrise', 'Sunset']].apply(lambda row: 1 if (row[0] >= row[1] and row[0] <= row[2]) else 0, axis=1)\n",
    "df[['hr', 'Sunrise', 'Sunset', 'Daylight']].head(20)"
   ]
  },
  {
   "cell_type": "code",
   "execution_count": 32,
   "metadata": {},
   "outputs": [],
   "source": [
    "df.drop(columns=['Sunrise', 'Sunset'], inplace=True)"
   ]
  },
  {
   "cell_type": "markdown",
   "metadata": {},
   "source": [
    "#### 3.3.3 Creating a column specifying whether the daily commute to work is happening\n",
    "To generate this column, we will make use of the previously defined column 'Holiday', and set the new column 'Rush_Hour' to 1 if it isn't a holiday and 'hr' takes a value attributable to the daily commute. According to TripSavvy (https://www.tripsavvy.com/driving-times-from-dc-1040439), rush hour in Washington D.C. occurs from 6 a.m. to 9:30 a.m. and 3:30 p.m. to 6:30 p.m."
   ]
  },
  {
   "cell_type": "code",
   "execution_count": null,
   "metadata": {},
   "outputs": [],
   "source": [
    "df['Rush_Hour'] = df[['Holiday', 'hr']].apply(lambda row:\n",
    "                                           1 if (row[0] == 0) and (row[1] in [6, 7, 8, 9, 15, 16, 17, 18]) else 0)\n",
    "df[['hr', 'Rush_Hour']].head()"
   ]
  },
  {
   "cell_type": "markdown",
   "metadata": {},
   "source": [
    "### 3.4 Cleaning, Encoding, and Transforming 'hum'\n",
    "* Eliminating outliers 0\n",
    "* Perhaps normalizing to center???\n"
   ]
  },
  {
   "cell_type": "markdown",
   "metadata": {},
   "source": [
    "### 3.5 Encoding and Transforming 'windspeed'\n",
    "* Eliminate large outliers\n",
    "* Perhaps normalize to center??"
   ]
  },
  {
   "cell_type": "markdown",
   "metadata": {},
   "source": [
    "### 3.6 Encoding and Transforming 'atemp' and 'temp'\n",
    "* What possible combination of the two exists?\n",
    "* Distribution seems ok"
   ]
  },
  {
   "cell_type": "markdown",
   "metadata": {},
   "source": [
    "### 3.7 Encoding and Transforming 'cnt'\n",
    "* Eliminate large outliers\n",
    "* Apply log transformation"
   ]
  },
  {
   "cell_type": "markdown",
   "metadata": {},
   "source": [
    "### 3.X Structure of Preprocessing: FIRST CREATE COLUMNS (SEASON, MONTH, HOLIDAY, DAYLIGHT, COMMUTING), THEN APPLY COLUMN TRANSFORMER!"
   ]
  },
  {
   "cell_type": "code",
   "execution_count": 33,
   "metadata": {},
   "outputs": [
    {
     "data": {
      "text/plain": [
       "True"
      ]
     },
     "execution_count": 33,
     "metadata": {},
     "output_type": "execute_result"
    }
   ],
   "source": [
    "3 in [3,4,5]"
   ]
  },
  {
   "cell_type": "code",
   "execution_count": null,
   "metadata": {},
   "outputs": [],
   "source": []
  }
 ],
 "metadata": {
  "colab": {
   "collapsed_sections": [],
   "name": "Bike-Sharing_Group3.ipynb",
   "provenance": []
  },
  "kernelspec": {
   "display_name": "Python 3",
   "language": "python",
   "name": "python3"
  },
  "language_info": {
   "codemirror_mode": {
    "name": "ipython",
    "version": 3
   },
   "file_extension": ".py",
   "mimetype": "text/x-python",
   "name": "python",
   "nbconvert_exporter": "python",
   "pygments_lexer": "ipython3",
   "version": "3.9.0"
  },
  "toc": {
   "base_numbering": 1,
   "nav_menu": {},
   "number_sections": false,
   "sideBar": true,
   "skip_h1_title": false,
   "title_cell": "Table of Contents",
   "title_sidebar": "Contents",
   "toc_cell": false,
   "toc_position": {},
   "toc_section_display": true,
   "toc_window_display": true
  }
 },
 "nbformat": 4,
 "nbformat_minor": 4
}
